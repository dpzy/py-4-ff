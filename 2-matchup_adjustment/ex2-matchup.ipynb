{
 "cells": [
  {
   "cell_type": "markdown",
   "metadata": {},
   "source": [
    "# Ex2: [Matchup Adjustments](https://www.fantasyfutopia.com/python-for-fantasy-football-matchup-adjustment/)"
   ]
  },
  {
   "cell_type": "markdown",
   "metadata": {},
   "source": [
    " ## Table of Contents\n",
    "\n",
    "- **Cleaning Data**\n",
    "    * [1.1 Import CSV into a Dataframe](#1intro)\n",
    "    * [1.2 Filtering](#1filter)\n",
    "    * [1.3 Sorting](#1sort)\n",
    "    * [1.4 Adding Data](#1add)\n",
    "    * [1.5 Glossary](#1gloss)\n",
    "    \n",
    "- **Generating Projected Stats**\n",
    "    * [2.1 Set the Dataframe Table](#2plot)\n",
    "    * [2.2 Pyplot](#2pyplot)\n",
    "    * [2.3 Seaborn Plot](#2seaborn)"
   ]
  },
  {
   "cell_type": "code",
   "execution_count": null,
   "metadata": {},
   "outputs": [],
   "source": [
    "## "
   ]
  }
 ],
 "metadata": {
  "kernelspec": {
   "display_name": "Python 3",
   "language": "python",
   "name": "python3"
  },
  "language_info": {
   "codemirror_mode": {
    "name": "ipython",
    "version": 3
   },
   "file_extension": ".py",
   "mimetype": "text/x-python",
   "name": "python",
   "nbconvert_exporter": "python",
   "pygments_lexer": "ipython3",
   "version": "3.6.4"
  }
 },
 "nbformat": 4,
 "nbformat_minor": 2
}
